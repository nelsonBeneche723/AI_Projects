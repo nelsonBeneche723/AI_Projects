{
 "cells": [
  {
   "cell_type": "code",
   "execution_count": 1,
   "id": "555ccc2e-cb7b-4cd4-93a4-841875e67191",
   "metadata": {},
   "outputs": [],
   "source": [
    "import pandas as pd\n",
    "import sqlite3"
   ]
  },
  {
   "cell_type": "code",
   "execution_count": 4,
   "id": "1614ee66-9689-4a3c-9e8f-9738eb551c27",
   "metadata": {},
   "outputs": [],
   "source": [
    "connection = sqlite3.connect('databestplayer.db')"
   ]
  },
  {
   "cell_type": "code",
   "execution_count": 5,
   "id": "e4cfc49e-125b-4b5c-b37c-3651d09d4f30",
   "metadata": {},
   "outputs": [
    {
     "data": {
      "text/plain": [
       "<sqlite3.Connection at 0x18b0b908400>"
      ]
     },
     "execution_count": 5,
     "metadata": {},
     "output_type": "execute_result"
    }
   ],
   "source": [
    "connection"
   ]
  },
  {
   "cell_type": "code",
   "execution_count": 8,
   "id": "d84ff07b-8642-4ce3-8861-d1ac551ae847",
   "metadata": {},
   "outputs": [],
   "source": [
    "df = pd.read_sql('select * from stat', connection)"
   ]
  },
  {
   "cell_type": "code",
   "execution_count": 9,
   "id": "bab93c4a-8a73-4237-8134-3e585411a264",
   "metadata": {},
   "outputs": [
    {
     "data": {
      "text/html": [
       "<div>\n",
       "<style scoped>\n",
       "    .dataframe tbody tr th:only-of-type {\n",
       "        vertical-align: middle;\n",
       "    }\n",
       "\n",
       "    .dataframe tbody tr th {\n",
       "        vertical-align: top;\n",
       "    }\n",
       "\n",
       "    .dataframe thead th {\n",
       "        text-align: right;\n",
       "    }\n",
       "</style>\n",
       "<table border=\"1\" class=\"dataframe\">\n",
       "  <thead>\n",
       "    <tr style=\"text-align: right;\">\n",
       "      <th></th>\n",
       "      <th>id</th>\n",
       "      <th>nom</th>\n",
       "      <th>club</th>\n",
       "      <th>nationalite</th>\n",
       "      <th>paysjouer</th>\n",
       "      <th>but_marque</th>\n",
       "      <th>passe_decisive</th>\n",
       "      <th>tropheecollectif</th>\n",
       "      <th>prixindividuel</th>\n",
       "      <th>cartonjaune</th>\n",
       "      <th>cartonrouge</th>\n",
       "      <th>saison</th>\n",
       "    </tr>\n",
       "  </thead>\n",
       "  <tbody>\n",
       "    <tr>\n",
       "      <th>0</th>\n",
       "      <td>1</td>\n",
       "      <td>Erling Braut Haaland</td>\n",
       "      <td>manchester city</td>\n",
       "      <td>Norvegien</td>\n",
       "      <td>Angleterre</td>\n",
       "      <td>55 buts</td>\n",
       "      <td>13</td>\n",
       "      <td>premier league, coupe de la ligue, league des ...</td>\n",
       "      <td>meilleur joueur de la saison en premier league...</td>\n",
       "      <td>11</td>\n",
       "      <td>0</td>\n",
       "      <td>2022-2023</td>\n",
       "    </tr>\n",
       "  </tbody>\n",
       "</table>\n",
       "</div>"
      ],
      "text/plain": [
       "   id                   nom             club nationalite   paysjouer  \\\n",
       "0   1  Erling Braut Haaland  manchester city   Norvegien  Angleterre   \n",
       "\n",
       "  but_marque  passe_decisive  \\\n",
       "0    55 buts              13   \n",
       "\n",
       "                                    tropheecollectif  \\\n",
       "0  premier league, coupe de la ligue, league des ...   \n",
       "\n",
       "                                      prixindividuel  cartonjaune  \\\n",
       "0  meilleur joueur de la saison en premier league...           11   \n",
       "\n",
       "   cartonrouge     saison  \n",
       "0            0  2022-2023  "
      ]
     },
     "execution_count": 9,
     "metadata": {},
     "output_type": "execute_result"
    }
   ],
   "source": [
    "df"
   ]
  },
  {
   "cell_type": "code",
   "execution_count": 7,
   "id": "09fa986e-5c46-48af-8f72-6f7f081febc4",
   "metadata": {},
   "outputs": [
    {
     "ename": "NameError",
     "evalue": "name 'df' is not defined",
     "output_type": "error",
     "traceback": [
      "\u001b[1;31m---------------------------------------------------------------------------\u001b[0m",
      "\u001b[1;31mNameError\u001b[0m                                 Traceback (most recent call last)",
      "Cell \u001b[1;32mIn[7], line 1\u001b[0m\n\u001b[1;32m----> 1\u001b[0m \u001b[43mdf\u001b[49m\u001b[38;5;241m.\u001b[39miloc[\u001b[38;5;241m0\u001b[39m:\u001b[38;5;241m1\u001b[39m,[\u001b[38;5;241m5\u001b[39m]] \u001b[38;5;66;03m# afficher la premiere ligne de donnees --de la 6eme colonne\u001b[39;00m\n",
      "\u001b[1;31mNameError\u001b[0m: name 'df' is not defined"
     ]
    }
   ],
   "source": [
    "df.iloc[0:1,[5]] # afficher la premiere ligne de donnees --de la 6eme colonne"
   ]
  },
  {
   "cell_type": "code",
   "execution_count": 25,
   "id": "c8aa8a81-04c5-4067-8192-55fe21c584f4",
   "metadata": {},
   "outputs": [
    {
     "data": {
      "text/plain": [
       "0    premier league, coupe de la ligue, league des ...\n",
       "Name: tropheecollectif, dtype: object"
      ]
     },
     "execution_count": 25,
     "metadata": {},
     "output_type": "execute_result"
    }
   ],
   "source": [
    "df.loc[:, 'tropheecollectif']"
   ]
  },
  {
   "cell_type": "code",
   "execution_count": 1,
   "id": "7fffc546-171c-4b34-92fd-62c7c3d263bf",
   "metadata": {},
   "outputs": [
    {
     "ename": "NameError",
     "evalue": "name 'df' is not defined",
     "output_type": "error",
     "traceback": [
      "\u001b[1;31m---------------------------------------------------------------------------\u001b[0m",
      "\u001b[1;31mNameError\u001b[0m                                 Traceback (most recent call last)",
      "Cell \u001b[1;32mIn[1], line 1\u001b[0m\n\u001b[1;32m----> 1\u001b[0m \u001b[43mdf\u001b[49m[\u001b[38;5;124m'\u001b[39m\u001b[38;5;124mbut_marque\u001b[39m\u001b[38;5;124m'\u001b[39m]\u001b[38;5;241m*\u001b[39m\u001b[38;5;241m2\u001b[39m\n",
      "\u001b[1;31mNameError\u001b[0m: name 'df' is not defined"
     ]
    }
   ],
   "source": [
    "coefficient = df['but_marque']*2"
   ]
  },
  {
   "cell_type": "code",
   "execution_count": 10,
   "id": "312b8b4a-9589-47e7-9bfc-5db1877ede74",
   "metadata": {},
   "outputs": [],
   "source": [
    "dfp = pd.DataFrame({'fix':['a','b','b','a','b'],'col':[3,4,10,7,6]})"
   ]
  },
  {
   "cell_type": "code",
   "execution_count": 11,
   "id": "9c3507e3-0b6a-40db-bf16-a37972546dd7",
   "metadata": {},
   "outputs": [
    {
     "data": {
      "text/html": [
       "<div>\n",
       "<style scoped>\n",
       "    .dataframe tbody tr th:only-of-type {\n",
       "        vertical-align: middle;\n",
       "    }\n",
       "\n",
       "    .dataframe tbody tr th {\n",
       "        vertical-align: top;\n",
       "    }\n",
       "\n",
       "    .dataframe thead th {\n",
       "        text-align: right;\n",
       "    }\n",
       "</style>\n",
       "<table border=\"1\" class=\"dataframe\">\n",
       "  <thead>\n",
       "    <tr style=\"text-align: right;\">\n",
       "      <th></th>\n",
       "      <th>fix</th>\n",
       "      <th>col</th>\n",
       "    </tr>\n",
       "  </thead>\n",
       "  <tbody>\n",
       "    <tr>\n",
       "      <th>0</th>\n",
       "      <td>a</td>\n",
       "      <td>3</td>\n",
       "    </tr>\n",
       "    <tr>\n",
       "      <th>1</th>\n",
       "      <td>b</td>\n",
       "      <td>4</td>\n",
       "    </tr>\n",
       "    <tr>\n",
       "      <th>2</th>\n",
       "      <td>b</td>\n",
       "      <td>10</td>\n",
       "    </tr>\n",
       "    <tr>\n",
       "      <th>3</th>\n",
       "      <td>a</td>\n",
       "      <td>7</td>\n",
       "    </tr>\n",
       "    <tr>\n",
       "      <th>4</th>\n",
       "      <td>b</td>\n",
       "      <td>6</td>\n",
       "    </tr>\n",
       "  </tbody>\n",
       "</table>\n",
       "</div>"
      ],
      "text/plain": [
       "  fix  col\n",
       "0   a    3\n",
       "1   b    4\n",
       "2   b   10\n",
       "3   a    7\n",
       "4   b    6"
      ]
     },
     "execution_count": 11,
     "metadata": {},
     "output_type": "execute_result"
    }
   ],
   "source": [
    "dfp"
   ]
  },
  {
   "cell_type": "code",
   "execution_count": 12,
   "id": "a864c31b-9c65-43b4-b00a-0cd63d6c6102",
   "metadata": {},
   "outputs": [
    {
     "data": {
      "text/plain": [
       "<pandas.core.groupby.generic.DataFrameGroupBy object at 0x0000022C468B0B60>"
      ]
     },
     "execution_count": 12,
     "metadata": {},
     "output_type": "execute_result"
    }
   ],
   "source": [
    "dfp.groupby('fix').sum()"
   ]
  }
 ],
 "metadata": {
  "kernelspec": {
   "display_name": "Python 3 (ipykernel)",
   "language": "python",
   "name": "python3"
  },
  "language_info": {
   "codemirror_mode": {
    "name": "ipython",
    "version": 3
   },
   "file_extension": ".py",
   "mimetype": "text/x-python",
   "name": "python",
   "nbconvert_exporter": "python",
   "pygments_lexer": "ipython3",
   "version": "3.12.0"
  }
 },
 "nbformat": 4,
 "nbformat_minor": 5
}
