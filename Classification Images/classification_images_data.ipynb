{
 "cells": [
  {
   "cell_type": "code",
   "execution_count": 1,
   "id": "69ec65b2",
   "metadata": {},
   "outputs": [],
   "source": [
    "# import tensorflow as tf\n",
    "# from tensorflow import keras\n",
    "\n",
    "# # Charger l'ensemble de données CIFAR-10\n",
    "# (x_train, y_train), (x_test, y_test) = keras.datasets.cifar10.load_data()\n",
    "\n",
    "# # Prétraitement des données\n",
    "# x_train = x_train / 255.0\n",
    "# x_test = x_test / 255.0\n",
    "\n",
    "# # Définir les noms des classes\n",
    "# class_names = ['Avion', 'Automobile', 'Oiseau', 'Chat', 'Cerf',\n",
    "#                'Chien', 'Grenouille', 'Cheval', 'Bateau', 'Camion']\n",
    "\n",
    "# # Créer le modèle\n",
    "# model = keras.Sequential([\n",
    "#     keras.layers.Conv2D(32, (3, 3), padding='same', activation='relu', input_shape=(32, 32, 3)),\n",
    "#     keras.layers.MaxPooling2D((2, 2)),\n",
    "#     keras.layers.Conv2D(64, (3, 3), padding='same', activation='relu'),\n",
    "#     keras.layers.MaxPooling2D((2, 2)),\n",
    "#     keras.layers.Flatten(),\n",
    "#     keras.layers.Dense(64, activation='relu'),\n",
    "#     keras.layers.Dense(10)\n",
    "# ])\n",
    "\n",
    "# # Compiler le modèle\n",
    "# model.compile(optimizer='adam',\n",
    "#               loss=tf.keras.losses.SparseCategoricalCrossentropy(from_logits=True),\n",
    "#               metrics=['accuracy'])\n",
    "\n",
    "# # Entraîner le modèle\n",
    "# model.fit(x_train, y_train, epochs=10, validation_data=(x_test, y_test))\n",
    "\n",
    "# # Évaluer le modèle sur l'ensemble de test\n",
    "# test_loss, test_acc = model.evaluate(x_test, y_test, verbose=2)\n",
    "# print('\\nExactitude sur l\\'ensemble de test:', test_acc)\n",
    "\n",
    "# # Faire des prédictions sur de nouvelles images\n",
    "# predictions = model.predict(x_test)\n",
    "\n"
   ]
  },
  {
   "cell_type": "code",
   "execution_count": 2,
   "id": "56ade064",
   "metadata": {},
   "outputs": [
    {
     "ename": "ModuleNotFoundError",
     "evalue": "No module named 'tensorflow'",
     "output_type": "error",
     "traceback": [
      "\u001b[1;31m---------------------------------------------------------------------------\u001b[0m",
      "\u001b[1;31mModuleNotFoundError\u001b[0m                       Traceback (most recent call last)",
      "Cell \u001b[1;32mIn[2], line 1\u001b[0m\n\u001b[1;32m----> 1\u001b[0m \u001b[38;5;28;01mimport\u001b[39;00m \u001b[38;5;21;01mtensorflow\u001b[39;00m \u001b[38;5;28;01mas\u001b[39;00m \u001b[38;5;21;01mtf\u001b[39;00m\n\u001b[0;32m      2\u001b[0m \u001b[38;5;28;01mfrom\u001b[39;00m \u001b[38;5;21;01mtensorflow\u001b[39;00m \u001b[38;5;28;01mimport\u001b[39;00m keras\n\u001b[0;32m      3\u001b[0m \u001b[38;5;28;01mimport\u001b[39;00m \u001b[38;5;21;01mnumpy\u001b[39;00m \u001b[38;5;28;01mas\u001b[39;00m \u001b[38;5;21;01mnp\u001b[39;00m\n",
      "\u001b[1;31mModuleNotFoundError\u001b[0m: No module named 'tensorflow'"
     ]
    }
   ],
   "source": [
    "import tensorflow as tf\n",
    "from tensorflow import keras\n",
    "import numpy as np\n",
    "import cv2\n",
    "import matplotlib.pyplot as plt\n",
    "from PIL import Image, ImageTk\n",
    "%matplotlib inline"
   ]
  },
  {
   "cell_type": "code",
   "execution_count": null,
   "id": "7a8003ff",
   "metadata": {},
   "outputs": [],
   "source": [
    "# Charger l'ensemble de données CIFAR-10.\n",
    "# les données d'entraînement sont stockées dans x_train et les étiquettes correspondantes sont stockées dans y_train.\n",
    "# De même, les données de test sont stockées dans x_test et les étiquettes correspondantes sont stockées dans y_test.\n",
    "\n",
    "(x_train, y_train), (x_test, y_test) = keras.datasets.cifar10.load_data()"
   ]
  },
  {
   "cell_type": "code",
   "execution_count": null,
   "id": "82f46828",
   "metadata": {},
   "outputs": [],
   "source": [
    "# les donnees d'entrainement \n",
    "x_train"
   ]
  },
  {
   "cell_type": "code",
   "execution_count": null,
   "id": "6fb49445",
   "metadata": {},
   "outputs": [],
   "source": [
    "# les donnees de test\n",
    "y_train"
   ]
  },
  {
   "cell_type": "code",
   "execution_count": null,
   "id": "c68ba77f",
   "metadata": {},
   "outputs": [],
   "source": [
    "# pretraitement de donnees\n",
    "x_train = x_train/255.0\n",
    "x_test = x_test/255.0\n",
    "x_test"
   ]
  },
  {
   "cell_type": "code",
   "execution_count": null,
   "id": "c9c5db50",
   "metadata": {},
   "outputs": [],
   "source": [
    "tf.__version__"
   ]
  },
  {
   "cell_type": "code",
   "execution_count": null,
   "id": "e88b4fb7",
   "metadata": {},
   "outputs": [],
   "source": [
    "y_test"
   ]
  },
  {
   "cell_type": "code",
   "execution_count": null,
   "id": "9f08ad17",
   "metadata": {},
   "outputs": [],
   "source": [
    " class_names = ['Avion', 'Automobile', 'Oiseau', 'Chat', 'Cerf', 'Chien', 'Grenouille', 'Cheval', 'Bateau', 'Camion']\n",
    "\n",
    "# # Créer le modèle\n",
    "model = keras.Sequential([\n",
    "    keras.layers.Conv2D(32, (3, 3), padding='same', activation='relu', input_shape=(32, 32, 3)),\n",
    "    keras.layers.MaxPooling2D((2, 2)),\n",
    "    keras.layers.Conv2D(64, (3, 3), padding='same', activation='relu'),\n",
    "    keras.layers.MaxPooling2D((2, 2)),\n",
    "    keras.layers.Flatten(),\n",
    "    keras.layers.Dense(64, activation='relu'),\n",
    "    keras.layers.Dense(10)\n",
    "])"
   ]
  },
  {
   "cell_type": "code",
   "execution_count": null,
   "id": "8096d824",
   "metadata": {},
   "outputs": [],
   "source": [
    "model"
   ]
  },
  {
   "cell_type": "code",
   "execution_count": null,
   "id": "f778fc9f",
   "metadata": {},
   "outputs": [],
   "source": [
    "\n",
    "# Compiler le modèle\n",
    "model.compile(optimizer='adam',\n",
    "              loss=tf.keras.losses.SparseCategoricalCrossentropy(from_logits=True),\n",
    "              metrics=['accuracy'])\n",
    "\n",
    "# Entraîner le modèle\n",
    "model.fit(x_train, y_train, epochs=10, validation_data=(x_test, y_test))\n",
    "\n",
    "# Évaluer le modèle sur l'ensemble de test\n",
    "test_loss, test_acc = model.evaluate(x_test, y_test, verbose=2)\n",
    "print('\\nExactitude sur l\\'ensemble de test:', test_acc)\n",
    "\n",
    "# Faire des prédictions sur de nouvelles images\n",
    "predictions = model.predict(x_test)\n"
   ]
  },
  {
   "cell_type": "code",
   "execution_count": null,
   "id": "20b84d15",
   "metadata": {},
   "outputs": [],
   "source": [
    "# # Convertir les prédictions en noms de classe\n",
    "# predicted_labels = [class_names[prediction.argmax()] for prediction in predictions]\n",
    "\n",
    "# # Afficher quelques prédictions\n",
    "# for i in range(1):\n",
    "#     print('Prédiction:', predicted_labels[i])"
   ]
  },
  {
   "cell_type": "code",
   "execution_count": null,
   "id": "ca52d7ef",
   "metadata": {},
   "outputs": [],
   "source": [
    "# definir une horizontale edge detection kernel\n",
    "kernel = np.matrix([[10,10,10],[-10,-10,-10]])\n",
    "kernel"
   ]
  },
  {
   "cell_type": "code",
   "execution_count": null,
   "id": "39ad909a",
   "metadata": {},
   "outputs": [],
   "source": [
    "# img_ = Image.open('pikachu/1033895.jpg')\n",
    "# img1 = cv2.filter2D(img_, -1, kernel)\n",
    "# plt.axis('off')\n",
    "# plt.imshow(cv2.cvtColor(img1, cv2.COLOR_BGR2RGB))\n"
   ]
  },
  {
   "cell_type": "code",
   "execution_count": null,
   "id": "d6844cbd",
   "metadata": {},
   "outputs": [],
   "source": []
  },
  {
   "cell_type": "code",
   "execution_count": null,
   "id": "37ad0f2d",
   "metadata": {},
   "outputs": [],
   "source": []
  }
 ],
 "metadata": {
  "kernelspec": {
   "display_name": "Python 3 (ipykernel)",
   "language": "python",
   "name": "python3"
  },
  "language_info": {
   "codemirror_mode": {
    "name": "ipython",
    "version": 3
   },
   "file_extension": ".py",
   "mimetype": "text/x-python",
   "name": "python",
   "nbconvert_exporter": "python",
   "pygments_lexer": "ipython3",
   "version": "3.12.0"
  },
  "widgets": {
   "application/vnd.jupyter.widget-state+json": {
    "state": {},
    "version_major": 2,
    "version_minor": 0
   }
  }
 },
 "nbformat": 4,
 "nbformat_minor": 5
}
