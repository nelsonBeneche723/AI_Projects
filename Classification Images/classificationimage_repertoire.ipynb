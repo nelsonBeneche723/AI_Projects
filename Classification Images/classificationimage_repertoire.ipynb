{
 "cells": [
  {
   "cell_type": "code",
   "execution_count": 1,
   "id": "74f16bd5",
   "metadata": {},
   "outputs": [
    {
     "ename": "ModuleNotFoundError",
     "evalue": "No module named 'tensorflow'",
     "output_type": "error",
     "traceback": [
      "\u001b[1;31m---------------------------------------------------------------------------\u001b[0m",
      "\u001b[1;31mModuleNotFoundError\u001b[0m                       Traceback (most recent call last)",
      "Cell \u001b[1;32mIn[1], line 4\u001b[0m\n\u001b[0;32m      2\u001b[0m \u001b[38;5;28;01mfrom\u001b[39;00m \u001b[38;5;21;01mIPython\u001b[39;00m\u001b[38;5;21;01m.\u001b[39;00m\u001b[38;5;21;01mdisplay\u001b[39;00m \u001b[38;5;28;01mimport\u001b[39;00m Image\n\u001b[0;32m      3\u001b[0m \u001b[38;5;28;01mimport\u001b[39;00m \u001b[38;5;21;01mzipfile\u001b[39;00m\n\u001b[1;32m----> 4\u001b[0m \u001b[38;5;28;01mimport\u001b[39;00m \u001b[38;5;21;01mtensorflow\u001b[39;00m \u001b[38;5;28;01mas\u001b[39;00m \u001b[38;5;21;01mtf\u001b[39;00m\n\u001b[0;32m      5\u001b[0m \u001b[38;5;28;01mfrom\u001b[39;00m \u001b[38;5;21;01mtensorflow\u001b[39;00m \u001b[38;5;28;01mimport\u001b[39;00m keras\n\u001b[0;32m      6\u001b[0m \u001b[38;5;28;01mimport\u001b[39;00m \u001b[38;5;21;01mnumpy\u001b[39;00m \u001b[38;5;28;01mas\u001b[39;00m \u001b[38;5;21;01mnp\u001b[39;00m\n",
      "\u001b[1;31mModuleNotFoundError\u001b[0m: No module named 'tensorflow'"
     ]
    }
   ],
   "source": [
    "import os\n",
    "from IPython.display import Image\n",
    "import zipfile\n",
    "import tensorflow as tf\n",
    "from tensorflow import keras\n",
    "import numpy as np\n",
    "import matplotlib.pyplot as plt\n",
    "from tensorflow.keras import losses, optimizers, metrics"
   ]
  },
  {
   "cell_type": "code",
   "execution_count": 11,
   "id": "db91c39d",
   "metadata": {},
   "outputs": [
    {
     "name": "stdout",
     "output_type": "stream",
     "text": [
      "[0 0 1]\n"
     ]
    }
   ],
   "source": [
    "# charger les fichier de son repertoire\n",
    "pikachu_files = [os.path.join('pikachu', file) for file in os.listdir('pikachu')]\n",
    "rondoudou_files = [os.path.join('rondoudou', file) for file in os.listdir('rondoudou')]\n",
    "# Concatener tous les fichiers dans une seule liste\n",
    "files = pikachu_files + rondoudou_files\n",
    "# Etiquettes\n",
    "labels = [0] * len(pikachu_files) + [1] * len(rondoudou_files)  # Vos étiquettes (0 pour Pikachu, 1 pour Rondoudou)\n",
    "\n",
    "def load_and_preprocess_image(path):\n",
    "    image = tf.io.read_file(path)\n",
    "    image = tf.image.decode_jpeg(image, channels=3)\n",
    "    image = tf.image.resize(image, [224, 224])\n",
    "    image = image / 255.0  # Normalisation des valeurs de pixel\n",
    "    return image\n",
    "\n",
    "images = [load_and_preprocess_image(file) for file in files]  # Pretraitement des fichiers qui se trouvent dans les deux repertoires\n",
    "images = tf.stack(images)  # les images pretraites sous forme de tenseur.\n",
    "# labels = tf.keras.utils.to_categorical(labels, num_classes=2)  # les etiquettes correpondantes\n",
    "labels = np.array(labels)  # convertir les etiquettes en un tableau numpy\n",
    "print(labels)"
   ]
  },
  {
   "cell_type": "code",
   "execution_count": 12,
   "id": "59a714f5",
   "metadata": {},
   "outputs": [],
   "source": [
    "# creation de modele entrainement de donnees\n",
    "model = keras.Sequential([\n",
    "    keras.layers.Conv2D(32, (3, 3), padding='same', activation='relu', input_shape=(224,224,3)),\n",
    "    keras.layers.MaxPooling2D((2, 2)),\n",
    "    keras.layers.Conv2D(64, (3, 3), padding='same', activation='relu'),\n",
    "    keras.layers.MaxPooling2D((2, 2)),\n",
    "    keras.layers.Flatten(),\n",
    "    keras.layers.Dense(64, activation='relu'),\n",
    "    keras.layers.Dense(2, activation='softmax')\n",
    "]\n",
    ")\n"
   ]
  },
  {
   "cell_type": "code",
   "execution_count": 13,
   "id": "a0729a22",
   "metadata": {},
   "outputs": [],
   "source": [
    "# compiler le modele\n",
    "model.compile(optimizer=optimizers.Adam(),\n",
    "              loss=losses.SparseCategoricalCrossentropy(from_logits=False),\n",
    "              metrics=[metrics.SparseCategoricalAccuracy()])"
   ]
  },
  {
   "cell_type": "code",
   "execution_count": 14,
   "id": "c4af607e",
   "metadata": {},
   "outputs": [
    {
     "name": "stdout",
     "output_type": "stream",
     "text": [
      "Model: \"sequential_1\"\n",
      "_________________________________________________________________\n",
      " Layer (type)                Output Shape              Param #   \n",
      "=================================================================\n",
      " conv2d_2 (Conv2D)           (None, 224, 224, 32)      896       \n",
      "                                                                 \n",
      " max_pooling2d_2 (MaxPoolin  (None, 112, 112, 32)      0         \n",
      " g2D)                                                            \n",
      "                                                                 \n",
      " conv2d_3 (Conv2D)           (None, 112, 112, 64)      18496     \n",
      "                                                                 \n",
      " max_pooling2d_3 (MaxPoolin  (None, 56, 56, 64)        0         \n",
      " g2D)                                                            \n",
      "                                                                 \n",
      " flatten_1 (Flatten)         (None, 200704)            0         \n",
      "                                                                 \n",
      " dense_2 (Dense)             (None, 64)                12845120  \n",
      "                                                                 \n",
      " dense_3 (Dense)             (None, 2)                 130       \n",
      "                                                                 \n",
      "=================================================================\n",
      "Total params: 12864642 (49.07 MB)\n",
      "Trainable params: 12864642 (49.07 MB)\n",
      "Non-trainable params: 0 (0.00 Byte)\n",
      "_________________________________________________________________\n"
     ]
    }
   ],
   "source": [
    "# affichage de la structure du modele\n",
    "model.summary()"
   ]
  },
  {
   "cell_type": "code",
   "execution_count": 15,
   "id": "954becfb",
   "metadata": {},
   "outputs": [
    {
     "name": "stdout",
     "output_type": "stream",
     "text": [
      "Epoch 1/10\n",
      "1/1 [==============================] - 5s 5s/step - loss: 0.6388 - sparse_categorical_accuracy: 1.0000 - val_loss: 96.5380 - val_sparse_categorical_accuracy: 0.0000e+00\n",
      "Epoch 2/10\n",
      "1/1 [==============================] - 1s 930ms/step - loss: 0.0000e+00 - sparse_categorical_accuracy: 1.0000 - val_loss: 169.3294 - val_sparse_categorical_accuracy: 0.0000e+00\n",
      "Epoch 3/10\n",
      "1/1 [==============================] - 1s 1s/step - loss: 0.0000e+00 - sparse_categorical_accuracy: 1.0000 - val_loss: 231.3271 - val_sparse_categorical_accuracy: 0.0000e+00\n",
      "Epoch 4/10\n",
      "1/1 [==============================] - 1s 1s/step - loss: 0.0000e+00 - sparse_categorical_accuracy: 1.0000 - val_loss: 287.0970 - val_sparse_categorical_accuracy: 0.0000e+00\n",
      "Epoch 5/10\n",
      "1/1 [==============================] - 1s 1s/step - loss: 0.0000e+00 - sparse_categorical_accuracy: 1.0000 - val_loss: 338.6367 - val_sparse_categorical_accuracy: 0.0000e+00\n",
      "Epoch 6/10\n",
      "1/1 [==============================] - 1s 1s/step - loss: 0.0000e+00 - sparse_categorical_accuracy: 1.0000 - val_loss: 386.3540 - val_sparse_categorical_accuracy: 0.0000e+00\n",
      "Epoch 7/10\n",
      "1/1 [==============================] - 2s 2s/step - loss: 0.0000e+00 - sparse_categorical_accuracy: 1.0000 - val_loss: 430.4321 - val_sparse_categorical_accuracy: 0.0000e+00\n",
      "Epoch 8/10\n",
      "1/1 [==============================] - 1s 1s/step - loss: 0.0000e+00 - sparse_categorical_accuracy: 1.0000 - val_loss: 471.3578 - val_sparse_categorical_accuracy: 0.0000e+00\n",
      "Epoch 9/10\n",
      "1/1 [==============================] - 1s 968ms/step - loss: 0.0000e+00 - sparse_categorical_accuracy: 1.0000 - val_loss: 509.3541 - val_sparse_categorical_accuracy: 0.0000e+00\n",
      "Epoch 10/10\n",
      "1/1 [==============================] - 1s 908ms/step - loss: 0.0000e+00 - sparse_categorical_accuracy: 1.0000 - val_loss: 544.7906 - val_sparse_categorical_accuracy: 0.0000e+00\n"
     ]
    },
    {
     "data": {
      "text/plain": [
       "<keras.src.callbacks.History at 0x222a2f8a3e0>"
      ]
     },
     "execution_count": 15,
     "metadata": {},
     "output_type": "execute_result"
    }
   ],
   "source": [
    "# entrainer le modele\n",
    "model.fit(images, labels, epochs=10, batch_size=32, validation_split=0.2)"
   ]
  },
  {
   "cell_type": "code",
   "execution_count": 16,
   "id": "1fca11a1",
   "metadata": {},
   "outputs": [
    {
     "data": {
      "text/plain": [
       "<_TensorSliceDataset element_spec=(TensorSpec(shape=(224, 224, 3), dtype=tf.float32, name=None), TensorSpec(shape=(), dtype=tf.int32, name=None))>"
      ]
     },
     "execution_count": 16,
     "metadata": {},
     "output_type": "execute_result"
    }
   ],
   "source": [
    "# dataset = tf.data.Dataset.from_tensor_slices((images, labels))\n",
    "# dataset"
   ]
  },
  {
   "cell_type": "code",
   "execution_count": 20,
   "id": "8665523b",
   "metadata": {},
   "outputs": [],
   "source": [
    "# dataset = dataset.map(load_and_preprocess_image(file))\n"
   ]
  },
  {
   "cell_type": "code",
   "execution_count": 21,
   "id": "13d92e1f",
   "metadata": {},
   "outputs": [
    {
     "name": "stdout",
     "output_type": "stream",
     "text": [
      "1/1 [==============================] - 0s 228ms/step - loss: 181.5970 - sparse_categorical_accuracy: 0.6667\n",
      "Loss: 181.5970001220703\n",
      "Accuracy: 0.6666666865348816\n"
     ]
    }
   ],
   "source": [
    "# Evaluer le modele\n",
    "loss, accuracy = model.evaluate(images, labels)\n",
    "print(\"Loss:\", loss)\n",
    "print(\"Accuracy:\", accuracy)"
   ]
  },
  {
   "cell_type": "code",
   "execution_count": 34,
   "id": "5e4a43b0",
   "metadata": {},
   "outputs": [
    {
     "name": "stdout",
     "output_type": "stream",
     "text": [
      "1/1 [==============================] - 0s 138ms/step\n"
     ]
    },
    {
     "data": {
      "text/plain": [
       "0"
      ]
     },
     "execution_count": 34,
     "metadata": {},
     "output_type": "execute_result"
    }
   ],
   "source": [
    "# Exemple, pour faire des prédictions sur une image spécifique\n",
    "image_path = 'C:/Users/Nelson Beneche/Pictures/autocollant-rondoudou-pokemon-039.jpg'\n",
    "image = load_and_preprocess_image(image_path)\n",
    "image = tf.expand_dims(image, axis=0)  # Ajouter une dimension supplémentaire pour le lot\n",
    "prediction = model.predict(image)\n",
    "class_index = np.argmax(prediction)  # Obtenir l'indice de classe prédite (0 pour Pikachu, 1 pour Rondoudou)\n",
    "class_index"
   ]
  }
 ],
 "metadata": {
  "kernelspec": {
   "display_name": "Python 3 (ipykernel)",
   "language": "python",
   "name": "python3"
  },
  "language_info": {
   "codemirror_mode": {
    "name": "ipython",
    "version": 3
   },
   "file_extension": ".py",
   "mimetype": "text/x-python",
   "name": "python",
   "nbconvert_exporter": "python",
   "pygments_lexer": "ipython3",
   "version": "3.12.0"
  }
 },
 "nbformat": 4,
 "nbformat_minor": 5
}
